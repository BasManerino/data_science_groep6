{
 "cells": [
  {
   "cell_type": "markdown",
   "metadata": {},
   "source": [
    "# Welkom bij de onderzoeks pipeline voor het vak Data Science.\n",
    "\n",
    "### Dit onderzoek is opgezet door groep 6 van klas V2C:\n",
    "- Sebastiaan Jansen\n",
    "- Mustafa Toprak\n",
    "- Skott de Koster\n",
    "\n",
    "#### Dit data onderzoek is gebaseerd op de dataset over films. Het bevat een centrale hoofdvraag:\n",
    "- In hoeverre is de omzet van een film te voorspellen op basis van de populariteit op Facebook en IMDB zelf?\n",
    "- #### En een aantal deelvragen:\n",
    " - Tot hoeverre variëren  de genres van de films waarin een acteur speelt verspreid over zijn/haar carrière?\n",
    " - Is een film met een trailer langer dan 2:30 minuten succesvoller dan een trailer van 2:00 minuten?\n",
    " - Is een film succesvoller op basis van het aantal likes die een acteur (of acteurs) heeft/hebben op facebook?\n",
    " - Welke regisseurs boeken halen t meeste winst?\n",
    " \n",
    "Deze vragen zullen allemaal worden behandeld in dit onderzoek."
   ]
  },
  {
   "cell_type": "markdown",
   "metadata": {},
   "source": [
    "## Stap 1: Data collection"
   ]
  },
  {
   "cell_type": "markdown",
   "metadata": {},
   "source": [
    "De dataset is aan ons gegeven door de Hogeschool Utrecht als onderdeel van de opdracht. Deze dataset houd een groot csv bestand in met onder andere de film titel, genre en een paar belangrijke acteurs. We hebben dus nu de data verzameld en moeten het nu inlezen. Dit brengt ons bij stap 2: "
   ]
  },
  {
   "cell_type": "markdown",
   "metadata": {},
   "source": [
    "## Stap 2: Data processing"
   ]
  },
  {
   "cell_type": "markdown",
   "metadata": {},
   "source": [
    "We gaan nu de dataset inlezen en verwerken om het beter te kunnen bekijken. Om te beginnen importeren we de benodigde Python libraries:"
   ]
  },
  {
   "cell_type": "code",
   "execution_count": null,
   "metadata": {},
   "outputs": [],
   "source": [
    "import numpy as np\n",
    "import pandas as pd"
   ]
  },
  {
   "cell_type": "markdown",
   "metadata": {},
   "source": [
    "Vervolgens lezen we de dataset in. Hiervoor gebruiken we pandas.read_csv en slaan we dit op in de dataframe \"films\". \n",
    "Aangezien de dataset erg groot is, laten we voor nu alleen de eerste en laatste paar rijen zien. Dit doen we door \"films\" aan te roepen:"
   ]
  },
  {
   "cell_type": "code",
   "execution_count": null,
   "metadata": {},
   "outputs": [],
   "source": [
    "films = pd.read_csv('movie.csv', sep=\",\")\n",
    "films"
   ]
  },
  {
   "cell_type": "markdown",
   "metadata": {},
   "source": [
    "We zien dus dat de dataset bestaat uit 5043 films. Maar deze data is nog niet schoongemaakt, oftewel het is nog niet bruikbaar genoeg omdat de data nog niet goed is opgeschoond. Dit brengt ons bij stap 3:"
   ]
  },
  {
   "cell_type": "markdown",
   "metadata": {},
   "source": [
    "## Stap 3: Data cleaning"
   ]
  }
 ],
 "metadata": {
  "kernelspec": {
   "display_name": "Python 3",
   "language": "python",
   "name": "python3"
  },
  "language_info": {
   "codemirror_mode": {
    "name": "ipython",
    "version": 3
   },
   "file_extension": ".py",
   "mimetype": "text/x-python",
   "name": "python",
   "nbconvert_exporter": "python",
   "pygments_lexer": "ipython3",
   "version": "3.7.4"
  }
 },
 "nbformat": 4,
 "nbformat_minor": 2
}
